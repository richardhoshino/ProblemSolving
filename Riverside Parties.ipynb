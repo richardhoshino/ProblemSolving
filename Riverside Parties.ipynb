{
 "cells": [
  {
   "cell_type": "code",
   "execution_count": null,
   "metadata": {},
   "outputs": [],
   "source": [
    "#import sys\n",
    "#!{sys.executable} -m pip install ortools \n",
    "\n",
    "import pandas as pd\n",
    "import numpy as np\n",
    "import time\n",
    "import random\n",
    "from ortools.linear_solver import pywraplp"
   ]
  },
  {
   "cell_type": "code",
   "execution_count": null,
   "metadata": {},
   "outputs": [],
   "source": [
    "InputData = pd.read_excel(\"Riverside.xlsx\", sep=\"\\t\")\n",
    "InputData"
   ]
  },
  {
   "cell_type": "code",
   "execution_count": null,
   "metadata": {},
   "outputs": [],
   "source": [
    "# Determine the start time\n",
    "StartTime = time.process_time()\n",
    "\n",
    "# Define our Linear Program\n",
    "Solver = pywraplp.Solver('Solver', pywraplp.Solver.CBC_MIXED_INTEGER_PROGRAMMING)\n",
    "\n",
    "# Define the Preference Coefficient P[i,j], for Residence i working in Week j\n",
    "n=18\n",
    "m=24\n",
    "\n",
    "P = np.zeros(shape=(n, m), dtype=int)\n",
    "blocks = [\"B1W1\",\"B1W2\",\"B1W3\",\"B2W1\",\"B2W2\",\"B2W3\",\"B3W1\",\"B3W2\",\"B3W3\",\"B4W1\",\"B4W2\",\"B4W3\",\n",
    "\"B5W1\",\"B5W2\",\"B5W3\",\"B6W1\",\"B6W2\",\"B6W3\",\"B7W1\",\"B7W2\",\"B7W3\",\"B8W1\",\"B8W2\",\"B8W3\"]\n",
    "\n",
    "for j in range(m):\n",
    "    for i in range(n):\n",
    "        P[i,j] = InputData[blocks[j]][i]\n",
    "        \n",
    "# Define the binary variable X[i,j], which will equal 1 if Residence i is assigned to Week j\n",
    "X = {}\n",
    "for i in range(n):\n",
    "    for j in range(m):\n",
    "        X[i,j] = Solver.IntVar(0, 1, 'X[%d, %d]' % (i,j))\n",
    "        \n",
    "# Set up our Happiness Function, which maximizes the total number of Happiness Points\n",
    "HappinessFunction = Solver.Sum(P[i,j]*X[i,j] for i in range(n) for j in range(m))\n",
    "Solver.Maximize(HappinessFunction)\n",
    "\n",
    "# Include our first constraint: Each residence must host two parties in the year\n",
    "for i in range(n):\n",
    "    Solver.Add(Solver.Sum([X[i,j] for j in range(12)]) == 1)\n",
    "    Solver.Add(Solver.Sum([X[i,j] for j in range(m)]) == 2)\n",
    "                       \n",
    "# Include our second constraint: Each week must be covered by at least one residence and at most two\n",
    "for j in range(m):\n",
    "    Solver.Add(Solver.Sum([X[i,j] for i in range(n)]) >= 1)\n",
    "    Solver.Add(Solver.Sum([X[i,j] for i in range(n)]) <= 2)\n",
    "\n",
    "# Solve the Integer Linear program\n",
    "Output = Solver.Solve()\n",
    "TotalPoints = round(Solver.Objective().Value())\n",
    "\n",
    "# Determine the total time of running the program.\n",
    "TotalTime = round(time.process_time() - StartTime, 4)\n",
    "\n",
    "# Output one of the possible optimal solutions.\n",
    "print(\"Python returns a solution with\", TotalPoints, \"Total Happiness Points in\", TotalTime, \"seconds\")\n",
    "pd.options.mode.chained_assignment = None\n",
    "OutputData = InputData.copy()\n",
    "for i in range(n):\n",
    "    for j in range(m):\n",
    "        if X[i,j].solution_value()==0:\n",
    "            OutputData[blocks[j]][i] = \"\"\n",
    "OutputData "
   ]
  },
  {
   "cell_type": "code",
   "execution_count": null,
   "metadata": {},
   "outputs": [],
   "source": [
    "for i in range(n):\n",
    "    for j in range(m):\n",
    "        if X[i,j].solution_value()==1:\n",
    "            print(\"Residence\", i+1, \"will host in\", blocks[j], \"with score\", P[i,j])"
   ]
  },
  {
   "cell_type": "code",
   "execution_count": null,
   "metadata": {},
   "outputs": [],
   "source": [
    "for j in range(m):\n",
    "    for i in range(n):\n",
    "        if X[i,j].solution_value()==1:\n",
    "            print(blocks[j], \"will be hosted by Residence\", i+1, \"with score\", P[i,j])"
   ]
  },
  {
   "cell_type": "code",
   "execution_count": null,
   "metadata": {},
   "outputs": [],
   "source": []
  },
  {
   "cell_type": "code",
   "execution_count": null,
   "metadata": {},
   "outputs": [],
   "source": []
  }
 ],
 "metadata": {
  "kernelspec": {
   "display_name": "Python 3",
   "language": "python",
   "name": "python3"
  },
  "language_info": {
   "codemirror_mode": {
    "name": "ipython",
    "version": 3
   },
   "file_extension": ".py",
   "mimetype": "text/x-python",
   "name": "python",
   "nbconvert_exporter": "python",
   "pygments_lexer": "ipython3",
   "version": "3.7.3"
  }
 },
 "nbformat": 4,
 "nbformat_minor": 2
}
